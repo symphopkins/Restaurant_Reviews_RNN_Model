{
  "nbformat": 4,
  "nbformat_minor": 0,
  "metadata": {
    "colab": {
      "provenance": []
    },
    "kernelspec": {
      "name": "python3",
      "display_name": "Python 3"
    },
    "language_info": {
      "name": "python"
    }
  },
  "cells": [
    {
      "cell_type": "markdown",
      "source": [
        "# DSCI 619: Deep Learning\n",
        "## Final Project: Part 2\n",
        "\n",
        "Symphony Hopkins"
      ],
      "metadata": {
        "id": "9xd9JF9ffovZ"
      }
    },
    {
      "cell_type": "markdown",
      "source": [
        "##Introduction\n",
        "\n",
        "We are part of a data scientist team in an AI company. We were given a dataset of restaurant reviews. The dataset is comprised of tab-separated files with two columns:\n",
        "+ Review: Customers' review\n",
        "+ Liked : 0 or 1\n",
        "\n",
        "Our objective is to create Recurrent Neural Network (RNN) models to forecast the **Liked** values based on **Review**, and then determine the most optimal RNN model to recommend to the AI company.\n",
        "\n",
        "Data Source: [Restaurant Reviews](https://www.kaggle.com/datasets/hj5992/restaurantreviews)"
      ],
      "metadata": {
        "id": "FE0hsNc8fyHq"
      }
    },
    {
      "cell_type": "markdown",
      "source": [
        "##1.Download the dataset that is about 25 KB from Kaggle into the local disk and unzip it.\n"
      ],
      "metadata": {
        "id": "JOOwKyBDhGyI"
      }
    },
    {
      "cell_type": "markdown",
      "source": [
        "We will begin by connect the Google Drive and loading the dataset into the memory."
      ],
      "metadata": {
        "id": "frR4A-fFhZcL"
      }
    },
    {
      "cell_type": "code",
      "source": [
        "#connecting to google drive\n",
        "from google.colab import drive \n",
        "drive.mount('/content/gdrive')\n",
        "\n",
        "#importing libraries\n",
        "import pandas as pd\n",
        "import re #regular expression for handling texts very efficiently\n",
        "from sklearn.model_selection import train_test_split\n",
        "import tensorflow as tf\n",
        "from tensorflow.keras import datasets, layers, models\n",
        "import numpy as np\n",
        "import seaborn as sns\n",
        "import matplotlib.pyplot as plt\n",
        "from sklearn.metrics import classification_report\n",
        "from sklearn.metrics import confusion_matrix\n",
        "\n",
        "#loading data\n",
        "df = pd.read_csv('gdrive/My Drive/Colab Notebooks/Final Project/Restaurant_Reviews.tsv', delimiter='\\t', header=0)\n",
        "df.head()"
      ],
      "metadata": {
        "colab": {
          "base_uri": "https://localhost:8080/",
          "height": 224
        },
        "id": "Fs49-qhphUsv",
        "outputId": "4249a3fe-4d76-4a35-b3cf-20a1b8aa46b3"
      },
      "execution_count": 1,
      "outputs": [
        {
          "output_type": "stream",
          "name": "stdout",
          "text": [
            "Mounted at /content/gdrive\n"
          ]
        },
        {
          "output_type": "execute_result",
          "data": {
            "text/plain": [
              "                                              Review  Liked\n",
              "0                           Wow... Loved this place.      1\n",
              "1                                 Crust is not good.      0\n",
              "2          Not tasty and the texture was just nasty.      0\n",
              "3  Stopped by during the late May bank holiday of...      1\n",
              "4  The selection on the menu was great and so wer...      1"
            ],
            "text/html": [
              "\n",
              "  <div id=\"df-47e32c49-1b4d-45d1-b684-391d935174c1\">\n",
              "    <div class=\"colab-df-container\">\n",
              "      <div>\n",
              "<style scoped>\n",
              "    .dataframe tbody tr th:only-of-type {\n",
              "        vertical-align: middle;\n",
              "    }\n",
              "\n",
              "    .dataframe tbody tr th {\n",
              "        vertical-align: top;\n",
              "    }\n",
              "\n",
              "    .dataframe thead th {\n",
              "        text-align: right;\n",
              "    }\n",
              "</style>\n",
              "<table border=\"1\" class=\"dataframe\">\n",
              "  <thead>\n",
              "    <tr style=\"text-align: right;\">\n",
              "      <th></th>\n",
              "      <th>Review</th>\n",
              "      <th>Liked</th>\n",
              "    </tr>\n",
              "  </thead>\n",
              "  <tbody>\n",
              "    <tr>\n",
              "      <th>0</th>\n",
              "      <td>Wow... Loved this place.</td>\n",
              "      <td>1</td>\n",
              "    </tr>\n",
              "    <tr>\n",
              "      <th>1</th>\n",
              "      <td>Crust is not good.</td>\n",
              "      <td>0</td>\n",
              "    </tr>\n",
              "    <tr>\n",
              "      <th>2</th>\n",
              "      <td>Not tasty and the texture was just nasty.</td>\n",
              "      <td>0</td>\n",
              "    </tr>\n",
              "    <tr>\n",
              "      <th>3</th>\n",
              "      <td>Stopped by during the late May bank holiday of...</td>\n",
              "      <td>1</td>\n",
              "    </tr>\n",
              "    <tr>\n",
              "      <th>4</th>\n",
              "      <td>The selection on the menu was great and so wer...</td>\n",
              "      <td>1</td>\n",
              "    </tr>\n",
              "  </tbody>\n",
              "</table>\n",
              "</div>\n",
              "      <button class=\"colab-df-convert\" onclick=\"convertToInteractive('df-47e32c49-1b4d-45d1-b684-391d935174c1')\"\n",
              "              title=\"Convert this dataframe to an interactive table.\"\n",
              "              style=\"display:none;\">\n",
              "        \n",
              "  <svg xmlns=\"http://www.w3.org/2000/svg\" height=\"24px\"viewBox=\"0 0 24 24\"\n",
              "       width=\"24px\">\n",
              "    <path d=\"M0 0h24v24H0V0z\" fill=\"none\"/>\n",
              "    <path d=\"M18.56 5.44l.94 2.06.94-2.06 2.06-.94-2.06-.94-.94-2.06-.94 2.06-2.06.94zm-11 1L8.5 8.5l.94-2.06 2.06-.94-2.06-.94L8.5 2.5l-.94 2.06-2.06.94zm10 10l.94 2.06.94-2.06 2.06-.94-2.06-.94-.94-2.06-.94 2.06-2.06.94z\"/><path d=\"M17.41 7.96l-1.37-1.37c-.4-.4-.92-.59-1.43-.59-.52 0-1.04.2-1.43.59L10.3 9.45l-7.72 7.72c-.78.78-.78 2.05 0 2.83L4 21.41c.39.39.9.59 1.41.59.51 0 1.02-.2 1.41-.59l7.78-7.78 2.81-2.81c.8-.78.8-2.07 0-2.86zM5.41 20L4 18.59l7.72-7.72 1.47 1.35L5.41 20z\"/>\n",
              "  </svg>\n",
              "      </button>\n",
              "      \n",
              "  <style>\n",
              "    .colab-df-container {\n",
              "      display:flex;\n",
              "      flex-wrap:wrap;\n",
              "      gap: 12px;\n",
              "    }\n",
              "\n",
              "    .colab-df-convert {\n",
              "      background-color: #E8F0FE;\n",
              "      border: none;\n",
              "      border-radius: 50%;\n",
              "      cursor: pointer;\n",
              "      display: none;\n",
              "      fill: #1967D2;\n",
              "      height: 32px;\n",
              "      padding: 0 0 0 0;\n",
              "      width: 32px;\n",
              "    }\n",
              "\n",
              "    .colab-df-convert:hover {\n",
              "      background-color: #E2EBFA;\n",
              "      box-shadow: 0px 1px 2px rgba(60, 64, 67, 0.3), 0px 1px 3px 1px rgba(60, 64, 67, 0.15);\n",
              "      fill: #174EA6;\n",
              "    }\n",
              "\n",
              "    [theme=dark] .colab-df-convert {\n",
              "      background-color: #3B4455;\n",
              "      fill: #D2E3FC;\n",
              "    }\n",
              "\n",
              "    [theme=dark] .colab-df-convert:hover {\n",
              "      background-color: #434B5C;\n",
              "      box-shadow: 0px 1px 3px 1px rgba(0, 0, 0, 0.15);\n",
              "      filter: drop-shadow(0px 1px 2px rgba(0, 0, 0, 0.3));\n",
              "      fill: #FFFFFF;\n",
              "    }\n",
              "  </style>\n",
              "\n",
              "      <script>\n",
              "        const buttonEl =\n",
              "          document.querySelector('#df-47e32c49-1b4d-45d1-b684-391d935174c1 button.colab-df-convert');\n",
              "        buttonEl.style.display =\n",
              "          google.colab.kernel.accessAllowed ? 'block' : 'none';\n",
              "\n",
              "        async function convertToInteractive(key) {\n",
              "          const element = document.querySelector('#df-47e32c49-1b4d-45d1-b684-391d935174c1');\n",
              "          const dataTable =\n",
              "            await google.colab.kernel.invokeFunction('convertToInteractive',\n",
              "                                                     [key], {});\n",
              "          if (!dataTable) return;\n",
              "\n",
              "          const docLinkHtml = 'Like what you see? Visit the ' +\n",
              "            '<a target=\"_blank\" href=https://colab.research.google.com/notebooks/data_table.ipynb>data table notebook</a>'\n",
              "            + ' to learn more about interactive tables.';\n",
              "          element.innerHTML = '';\n",
              "          dataTable['output_type'] = 'display_data';\n",
              "          await google.colab.output.renderOutput(dataTable, element);\n",
              "          const docLink = document.createElement('div');\n",
              "          docLink.innerHTML = docLinkHtml;\n",
              "          element.appendChild(docLink);\n",
              "        }\n",
              "      </script>\n",
              "    </div>\n",
              "  </div>\n",
              "  "
            ]
          },
          "metadata": {},
          "execution_count": 1
        }
      ]
    },
    {
      "cell_type": "markdown",
      "source": [
        "Let's check the shape of the dataframe."
      ],
      "metadata": {
        "id": "TFxuZVsviBl7"
      }
    },
    {
      "cell_type": "code",
      "source": [
        "#checking shape\n",
        "df.shape"
      ],
      "metadata": {
        "colab": {
          "base_uri": "https://localhost:8080/"
        },
        "id": "W-1w9uLwiCBy",
        "outputId": "5a8f6f8f-bdce-4baa-b70f-4f8ac91ed5d3"
      },
      "execution_count": null,
      "outputs": [
        {
          "output_type": "execute_result",
          "data": {
            "text/plain": [
              "(1000, 2)"
            ]
          },
          "metadata": {},
          "execution_count": 2
        }
      ]
    },
    {
      "cell_type": "markdown",
      "source": [
        "We will also check the distribution of Liked values."
      ],
      "metadata": {
        "id": "T_yO6_qVfiaU"
      }
    },
    {
      "cell_type": "code",
      "source": [
        "#checking distribution of Liked values\n",
        "print(df['Liked'].value_counts())"
      ],
      "metadata": {
        "colab": {
          "base_uri": "https://localhost:8080/"
        },
        "id": "PRBoq5vPfmLN",
        "outputId": "28436581-71dc-4e18-c829-6725c9f41812"
      },
      "execution_count": 2,
      "outputs": [
        {
          "output_type": "stream",
          "name": "stdout",
          "text": [
            "1    500\n",
            "0    500\n",
            "Name: Liked, dtype: int64\n"
          ]
        }
      ]
    },
    {
      "cell_type": "markdown",
      "source": [
        "This is a balanced dataset. It's also good practice to check the data types so we will do so."
      ],
      "metadata": {
        "id": "-05H6-kLiDYv"
      }
    },
    {
      "cell_type": "code",
      "source": [
        "#checking data types\n",
        "df.dtypes"
      ],
      "metadata": {
        "colab": {
          "base_uri": "https://localhost:8080/"
        },
        "id": "fmfNv-BFiFIN",
        "outputId": "5479595a-99d1-479a-bf7c-74bd8a023d05"
      },
      "execution_count": null,
      "outputs": [
        {
          "output_type": "execute_result",
          "data": {
            "text/plain": [
              "Review    object\n",
              "Liked      int64\n",
              "dtype: object"
            ]
          },
          "metadata": {},
          "execution_count": 3
        }
      ]
    },
    {
      "cell_type": "markdown",
      "source": [
        "Now we will check for missing values."
      ],
      "metadata": {
        "id": "tPBRd3nUiJSH"
      }
    },
    {
      "cell_type": "code",
      "source": [
        "#checking for missing values\n",
        "df.isnull().sum(axis = 0)"
      ],
      "metadata": {
        "colab": {
          "base_uri": "https://localhost:8080/"
        },
        "id": "KRNn2TPbiJxH",
        "outputId": "77dfbeb4-57be-4e99-8646-dbc62dbbd5d8"
      },
      "execution_count": null,
      "outputs": [
        {
          "output_type": "execute_result",
          "data": {
            "text/plain": [
              "Review    0\n",
              "Liked     0\n",
              "dtype: int64"
            ]
          },
          "metadata": {},
          "execution_count": 4
        }
      ]
    },
    {
      "cell_type": "markdown",
      "source": [
        "We have no missing values."
      ],
      "metadata": {
        "id": "p6OaUEJdiNDR"
      }
    },
    {
      "cell_type": "markdown",
      "source": [
        "##2.Clean and preprocess the text data and split into training and test dataset.\n"
      ],
      "metadata": {
        "id": "mXFCI3l1hIjI"
      }
    },
    {
      "cell_type": "markdown",
      "source": [
        "Next, we will clean the Review column using regular expressions. This process will include...\n",
        "+ Remove all special characters, punctuation and spaces\n",
        "+ Remove all words with length <=2"
      ],
      "metadata": {
        "id": "m4mtJF6MiQha"
      }
    },
    {
      "cell_type": "code",
      "source": [
        "#cleaning the Reviews column using regular expressions\n",
        "#removing punctuation and spaces; replacing special characters,<br /> in the file\n",
        "df['Review'] = df['Review'].apply(lambda x: re.sub(r'[^A-Za-z0-9]+',' ',x))\n",
        "df['Review'] = df['Review'].apply(lambda x: re.sub(r\"<br />\", \" \", x))\n",
        "# removing words with a length less than or equal to 2\n",
        "df['Review'] = df['Review'].apply(lambda x: re.sub(r'\\b[a-zA-Z]{1,2}\\b', '', x))"
      ],
      "metadata": {
        "id": "t5gJLZFPilca"
      },
      "execution_count": null,
      "outputs": []
    },
    {
      "cell_type": "markdown",
      "source": [
        "Now, let's check the Reviews column."
      ],
      "metadata": {
        "id": "KHrkkg4Niv0L"
      }
    },
    {
      "cell_type": "code",
      "source": [
        "df['Review'].head()"
      ],
      "metadata": {
        "colab": {
          "base_uri": "https://localhost:8080/"
        },
        "id": "7hRk48qKixGN",
        "outputId": "ce1927e0-b421-486a-b7f5-27bf14ee89ae"
      },
      "execution_count": null,
      "outputs": [
        {
          "output_type": "execute_result",
          "data": {
            "text/plain": [
              "0                                Wow Loved this place \n",
              "1                                     Crust  not good \n",
              "2            Not tasty and the texture was just nasty \n",
              "3    Stopped  during the late May bank holiday off ...\n",
              "4    The selection  the menu was great and  were th...\n",
              "Name: Review, dtype: object"
            ]
          },
          "metadata": {},
          "execution_count": 6
        }
      ]
    },
    {
      "cell_type": "markdown",
      "source": [
        "Next, we will split the data into training and test data sets. We will perform an 80-20 split."
      ],
      "metadata": {
        "id": "i6_f9JfOi1lO"
      }
    },
    {
      "cell_type": "code",
      "source": [
        "#performing train-test split\n",
        "X = df['Review'].values\n",
        "y = df['Liked'].values\n",
        "X_train, X_test, y_train, y_test = train_test_split(X, y, stratify=y, test_size=0.2)\n",
        "\n",
        "#printing shape\n",
        "print(f'X_train size={X_train.shape}; X_test size  ={X_test.shape}')"
      ],
      "metadata": {
        "colab": {
          "base_uri": "https://localhost:8080/"
        },
        "id": "KUZGa-2Bi5Bg",
        "outputId": "170206ef-bb12-44b2-884e-7e210e2c14a8"
      },
      "execution_count": null,
      "outputs": [
        {
          "output_type": "stream",
          "name": "stdout",
          "text": [
            "X_train size=(800,); X_test size  =(200,)\n"
          ]
        }
      ]
    },
    {
      "cell_type": "markdown",
      "source": [
        "Next, we will convert the text to numerical values using TextVectorization."
      ],
      "metadata": {
        "id": "CrQ25LtTjBok"
      }
    },
    {
      "cell_type": "code",
      "source": [
        "#specifying the vocab size\n",
        "VOCAB_SIZE = 1000\n",
        "#performing textvectorization\n",
        "encoder = tf.keras.layers.experimental.preprocessing.TextVectorization(\n",
        "    max_tokens=VOCAB_SIZE)\n",
        "\n",
        "#fitting the state of the preprocessing layer to the dataset.\n",
        "encoder.adapt(X_train)"
      ],
      "metadata": {
        "id": "cp6qXk0ijCNA"
      },
      "execution_count": null,
      "outputs": []
    },
    {
      "cell_type": "markdown",
      "source": [
        "##3.Build a baseline RNN model using embedding layer and GRU on the training dataset and evaluate it on the test dataset.\n"
      ],
      "metadata": {
        "id": "AJiRo1VThLZs"
      }
    },
    {
      "cell_type": "markdown",
      "source": [
        "Now, we can build the RNN model using an embedding and GRU layer."
      ],
      "metadata": {
        "id": "YvkqwSVzjF-r"
      }
    },
    {
      "cell_type": "code",
      "source": [
        "# specifying dropout rate\n",
        "dropout_rate = 0.3\n",
        "\n",
        "#building RNN model\n",
        "model_1 = tf.keras.Sequential([\n",
        "    #performing textvectorization which converts the raw texts to indices/integers\n",
        "    encoder, \n",
        "    #embedding layer to convert the indices to numerical vectors\n",
        "    tf.keras.layers.Embedding(\n",
        "        input_dim=len(encoder.get_vocabulary()),\n",
        "        output_dim=128,\n",
        "        #using masking to handle the variable sequence lengths\n",
        "        mask_zero=True),\n",
        "    #GRU layer; the default recurrent_activation = sigmoid\n",
        "    tf.keras.layers.GRU(256, return_sequences=False),\n",
        "    #classification layer 1\n",
        "    tf.keras.layers.Dense(128, activation='relu'),\n",
        "    #dropout layer 1\n",
        "    tf.keras.layers.Dropout(dropout_rate),\n",
        "    #classification layer 2\n",
        "    tf.keras.layers.Dense(64, activation='relu'),\n",
        "    #classification layer 3; must be equal to 1 since this is the output layer\n",
        "    tf.keras.layers.Dense(1, activation=None)\n",
        "])"
      ],
      "metadata": {
        "id": "oggeFAZSjOqI"
      },
      "execution_count": null,
      "outputs": []
    },
    {
      "cell_type": "markdown",
      "source": [
        "Let's look at the model summary.\n",
        "\n",
        "\n"
      ],
      "metadata": {
        "id": "oJ9AUsN6j7nP"
      }
    },
    {
      "cell_type": "code",
      "source": [
        "#summarizing model\n",
        "model_1.summary()"
      ],
      "metadata": {
        "colab": {
          "base_uri": "https://localhost:8080/"
        },
        "id": "jmSX37uhj8po",
        "outputId": "89f2febe-7725-4bd6-beb6-bf6ddc0cc7f6"
      },
      "execution_count": null,
      "outputs": [
        {
          "output_type": "stream",
          "name": "stdout",
          "text": [
            "Model: \"sequential\"\n",
            "_________________________________________________________________\n",
            " Layer (type)                Output Shape              Param #   \n",
            "=================================================================\n",
            " text_vectorization (TextVec  (None, None)             0         \n",
            " torization)                                                     \n",
            "                                                                 \n",
            " embedding (Embedding)       (None, None, 128)         128000    \n",
            "                                                                 \n",
            " gru (GRU)                   (None, 256)               296448    \n",
            "                                                                 \n",
            " dense (Dense)               (None, 128)               32896     \n",
            "                                                                 \n",
            " dropout (Dropout)           (None, 128)               0         \n",
            "                                                                 \n",
            " dense_1 (Dense)             (None, 64)                8256      \n",
            "                                                                 \n",
            " dense_2 (Dense)             (None, 1)                 65        \n",
            "                                                                 \n",
            "=================================================================\n",
            "Total params: 465,665\n",
            "Trainable params: 465,665\n",
            "Non-trainable params: 0\n",
            "_________________________________________________________________\n"
          ]
        }
      ]
    },
    {
      "cell_type": "markdown",
      "source": [
        "We will implement early stopping. The training will stop if the validation accuracy does not improve for 7 epochs."
      ],
      "metadata": {
        "id": "uRkYMoO-ERdj"
      }
    },
    {
      "cell_type": "code",
      "source": [
        "#adding early stopping; if the validation accuracy does not improve for 7 epochs, we will stop training\n",
        "callback = tf.keras.callbacks.EarlyStopping(monitor='val_accuracy', patience= 7)"
      ],
      "metadata": {
        "id": "W4DLDr6uEV5r"
      },
      "execution_count": null,
      "outputs": []
    },
    {
      "cell_type": "markdown",
      "source": [
        "Next, let's configure the model. We will use the **adam** optimizer. We will also use **SparseCategoricalCrossentropy** since the Liked column is encoded as integers (0 = Not Liked, 1 = Liked). Also, since we set the **activation=None**, we have to set **from_logits=True**. We will evaluate the model on it's accuracy.\n"
      ],
      "metadata": {
        "id": "-fKofb-DkHYU"
      }
    },
    {
      "cell_type": "code",
      "source": [
        "#configuring the model; since activation=None we must put from_logits=True\n",
        "model_1.compile(loss=tf.keras.losses.BinaryCrossentropy(from_logits=True),\n",
        "              optimizer=tf.keras.optimizers.Adam(1e-4),\n",
        "              metrics=['accuracy']) # we will evaluate the model using acc"
      ],
      "metadata": {
        "id": "UFdY48onkLYa"
      },
      "execution_count": null,
      "outputs": []
    },
    {
      "cell_type": "markdown",
      "source": [
        "Finally, we can train the model.\n"
      ],
      "metadata": {
        "id": "5_N_HDZzkT53"
      }
    },
    {
      "cell_type": "code",
      "source": [
        "%%time\n",
        "#training the model and storing the history in a variable to plot later\n",
        "history_1 = model_1.fit(x=X_train, \n",
        "                    y=y_train,\n",
        "                    epochs=100, \n",
        "                    validation_data=(X_test,y_test), \n",
        "                    callbacks=[callback], \n",
        "                    verbose = 1)"
      ],
      "metadata": {
        "id": "2A4GmH9PkURW",
        "colab": {
          "base_uri": "https://localhost:8080/"
        },
        "outputId": "db9ba477-97bf-468b-8560-cecb3431b188"
      },
      "execution_count": null,
      "outputs": [
        {
          "output_type": "stream",
          "name": "stdout",
          "text": [
            "Epoch 1/100\n",
            "25/25 [==============================] - 20s 277ms/step - loss: 0.6927 - accuracy: 0.5000 - val_loss: 0.6915 - val_accuracy: 0.5000\n",
            "Epoch 2/100\n",
            "25/25 [==============================] - 3s 129ms/step - loss: 0.6912 - accuracy: 0.5000 - val_loss: 0.6903 - val_accuracy: 0.5000\n",
            "Epoch 3/100\n",
            "25/25 [==============================] - 2s 86ms/step - loss: 0.6892 - accuracy: 0.5000 - val_loss: 0.6883 - val_accuracy: 0.5000\n",
            "Epoch 4/100\n",
            "25/25 [==============================] - 2s 81ms/step - loss: 0.6847 - accuracy: 0.5000 - val_loss: 0.6846 - val_accuracy: 0.5000\n",
            "Epoch 5/100\n",
            "25/25 [==============================] - 2s 82ms/step - loss: 0.6766 - accuracy: 0.5000 - val_loss: 0.6760 - val_accuracy: 0.5000\n",
            "Epoch 6/100\n",
            "25/25 [==============================] - 2s 79ms/step - loss: 0.6533 - accuracy: 0.5000 - val_loss: 0.6525 - val_accuracy: 0.5000\n",
            "Epoch 7/100\n",
            "25/25 [==============================] - 2s 94ms/step - loss: 0.5797 - accuracy: 0.5275 - val_loss: 0.6013 - val_accuracy: 0.5900\n",
            "Epoch 8/100\n",
            "25/25 [==============================] - 3s 138ms/step - loss: 0.4239 - accuracy: 0.7837 - val_loss: 0.6492 - val_accuracy: 0.7650\n",
            "Epoch 9/100\n",
            "25/25 [==============================] - 2s 83ms/step - loss: 0.2920 - accuracy: 0.9087 - val_loss: 0.7018 - val_accuracy: 0.7650\n",
            "Epoch 10/100\n",
            "25/25 [==============================] - 2s 81ms/step - loss: 0.2280 - accuracy: 0.9287 - val_loss: 0.6405 - val_accuracy: 0.7700\n",
            "Epoch 11/100\n",
            "25/25 [==============================] - 2s 80ms/step - loss: 0.1742 - accuracy: 0.9500 - val_loss: 0.6523 - val_accuracy: 0.7850\n",
            "Epoch 12/100\n",
            "25/25 [==============================] - 2s 83ms/step - loss: 0.1328 - accuracy: 0.9675 - val_loss: 0.8266 - val_accuracy: 0.7700\n",
            "Epoch 13/100\n",
            "25/25 [==============================] - 2s 85ms/step - loss: 0.1094 - accuracy: 0.9675 - val_loss: 0.8149 - val_accuracy: 0.7600\n",
            "Epoch 14/100\n",
            "25/25 [==============================] - 3s 135ms/step - loss: 0.0818 - accuracy: 0.9812 - val_loss: 0.8407 - val_accuracy: 0.7850\n",
            "Epoch 15/100\n",
            "25/25 [==============================] - 3s 99ms/step - loss: 0.0648 - accuracy: 0.9825 - val_loss: 0.9535 - val_accuracy: 0.7900\n",
            "Epoch 16/100\n",
            "25/25 [==============================] - 2s 88ms/step - loss: 0.0514 - accuracy: 0.9850 - val_loss: 1.0405 - val_accuracy: 0.7800\n",
            "Epoch 17/100\n",
            "25/25 [==============================] - 2s 82ms/step - loss: 0.0402 - accuracy: 0.9912 - val_loss: 1.2165 - val_accuracy: 0.7700\n",
            "Epoch 18/100\n",
            "25/25 [==============================] - 2s 88ms/step - loss: 0.0374 - accuracy: 0.9900 - val_loss: 1.1666 - val_accuracy: 0.7750\n",
            "Epoch 19/100\n",
            "25/25 [==============================] - 2s 96ms/step - loss: 0.0289 - accuracy: 0.9937 - val_loss: 1.2841 - val_accuracy: 0.7800\n",
            "Epoch 20/100\n",
            "25/25 [==============================] - 4s 152ms/step - loss: 0.0250 - accuracy: 0.9950 - val_loss: 1.3798 - val_accuracy: 0.7750\n",
            "Epoch 21/100\n",
            "25/25 [==============================] - 4s 152ms/step - loss: 0.0231 - accuracy: 0.9950 - val_loss: 1.5256 - val_accuracy: 0.7750\n",
            "Epoch 22/100\n",
            "25/25 [==============================] - 2s 82ms/step - loss: 0.0206 - accuracy: 0.9962 - val_loss: 1.6280 - val_accuracy: 0.7650\n",
            "CPU times: user 1min 20s, sys: 3.45 s, total: 1min 24s\n",
            "Wall time: 1min 11s\n"
          ]
        }
      ]
    },
    {
      "cell_type": "markdown",
      "source": [
        "Let's evaluate the model by visualizing history."
      ],
      "metadata": {
        "id": "wUXcMA0pkdmL"
      }
    },
    {
      "cell_type": "code",
      "source": [
        "#visualizing training history\n",
        "train_history = pd.DataFrame(history_1.history)\n",
        "train_history['epoch'] = history_1.epoch\n",
        "#plotting train loss\n",
        "sns.lineplot(x='epoch', y ='loss', data =train_history)\n",
        "#plotting validation loss\n",
        "sns.lineplot(x='epoch', y ='val_loss', data =train_history)\n",
        "#adding legends\n",
        "plt.legend(labels=['train_loss', 'val_loss'])\n",
        "plt.title('Training and Validation Loss Over Epochs')\n",
        "plt.show()\n",
        "\n",
        "#plotting training accuracy\n",
        "sns.lineplot(x='epoch', y ='accuracy', data =train_history)\n",
        "#Plot validation accuracy\n",
        "sns.lineplot(x='epoch', y ='val_accuracy', data =train_history)\n",
        "#adding legends\n",
        "plt.legend(labels=['train_accuracy', 'val_accuracy'])\n",
        "plt.title('Training and Validation Accuracy Over Epochs')\n",
        "plt.show()"
      ],
      "metadata": {
        "id": "D2osQt9wkeAv",
        "colab": {
          "base_uri": "https://localhost:8080/",
          "height": 927
        },
        "outputId": "43a9be54-615f-49ab-dafa-0b856c5b3325"
      },
      "execution_count": null,
      "outputs": [
        {
          "output_type": "display_data",
          "data": {
            "text/plain": [
              "<Figure size 640x480 with 1 Axes>"
            ],
            "image/png": "[encoded data removed]"
          },
          "metadata": {}
        },
        {
          "output_type": "display_data",
          "data": {
            "text/plain": [
              "<Figure size 640x480 with 1 Axes>"
            ],
            "image/png": "[encoded data removed]"
          },
          "metadata": {}
        }
      ]
    },
    {
      "cell_type": "markdown",
      "source": [
        "For the first 5 epochs, the validation loss followed along the same trend as the training loss, but afterwards the validation loss began to increase while the training loss continued to decrease. From the second graph, we can see that the training accuracy was greater than the validation accuracy. All of these characteristics are indications that the model is over-fitting.\n",
        "\n",
        "Let's also evaluate the model on the test dataset. We will do so by forecasting the **Liked** labels, and then creating a classification report."
      ],
      "metadata": {
        "id": "q0Mxpzffkh1i"
      }
    },
    {
      "cell_type": "code",
      "source": [
        "#forecasting the Liked labels\n",
        "#the cutoff probability is 50%\n",
        "y_pred = (model_1.predict(X_test)> 0.5).astype(int)\n",
        "\n",
        "#we need to convert 0 and 1 back to words so that 0 = Not Liked and 1 = Liked for easier readability\n",
        "#printing a classification report\n",
        "label_names = ['Not Liked', 'Liked']\n",
        "report_1 = classification_report(y_test, y_pred, target_names=label_names)\n",
        "print(report_1)"
      ],
      "metadata": {
        "id": "WsIqsR2OkvtT",
        "colab": {
          "base_uri": "https://localhost:8080/"
        },
        "outputId": "cfb810ab-3c5b-483c-eb7a-d481227c533c"
      },
      "execution_count": null,
      "outputs": [
        {
          "output_type": "stream",
          "name": "stdout",
          "text": [
            "7/7 [==============================] - 2s 19ms/step\n",
            "              precision    recall  f1-score   support\n",
            "\n",
            "   Not Liked       0.74      0.81      0.78       100\n",
            "       Liked       0.79      0.72      0.75       100\n",
            "\n",
            "    accuracy                           0.77       200\n",
            "   macro avg       0.77      0.77      0.76       200\n",
            "weighted avg       0.77      0.77      0.76       200\n",
            "\n"
          ]
        }
      ]
    },
    {
      "cell_type": "markdown",
      "source": [
        "The accuracy (=0.77) and F1-score (>=0.75) are okay. There is room for improvement for this model."
      ],
      "metadata": {
        "id": "6WtYl3NGk09P"
      }
    },
    {
      "cell_type": "markdown",
      "source": [
        "##4.Build a second RNN model using embedding layer and LSTM and evaluate it on the test dataset.\n"
      ],
      "metadata": {
        "id": "3DIfV8jLhN2N"
      }
    },
    {
      "cell_type": "markdown",
      "source": [
        "Next, we will build a RNN model using an embedding and LSTM layer."
      ],
      "metadata": {
        "id": "YP3l-QNClUHj"
      }
    },
    {
      "cell_type": "code",
      "source": [
        "#building RNN model\n",
        "model_2 = tf.keras.Sequential([\n",
        "    #performing textvectorization which converts the raw texts to indices/integers\n",
        "    encoder, \n",
        "    #embedding layer to convert the indices to numerical vectors\n",
        "    tf.keras.layers.Embedding(\n",
        "        input_dim=len(encoder.get_vocabulary()),\n",
        "        output_dim=128,\n",
        "        #using masking to handle the variable sequence lengths\n",
        "        mask_zero=True),\n",
        "    #LSTM layer\n",
        "    tf.keras.layers.Bidirectional(tf.keras.layers.LSTM(256)),\n",
        "    #classification layer 1\n",
        "    tf.keras.layers.Dense(128, activation='relu'),\n",
        "    #dropout layer 1\n",
        "    tf.keras.layers.Dropout(dropout_rate),\n",
        "    #classification layer 2\n",
        "    tf.keras.layers.Dense(64, activation='relu'),\n",
        "    #classification layer 3; must be equal to 1 since this is the output layer\n",
        "    tf.keras.layers.Dense(1, activation=None)\n",
        "])"
      ],
      "metadata": {
        "id": "h7CxHUPjlZ5h"
      },
      "execution_count": null,
      "outputs": []
    },
    {
      "cell_type": "markdown",
      "source": [
        "Let's look at the model summary.\n"
      ],
      "metadata": {
        "id": "aHwvLUZ-lwO9"
      }
    },
    {
      "cell_type": "code",
      "source": [
        "#summarizing model\n",
        "model_2.summary()"
      ],
      "metadata": {
        "id": "CsbqH0Znl7K9",
        "colab": {
          "base_uri": "https://localhost:8080/"
        },
        "outputId": "fff398f2-ca12-4e23-ab36-674495b131ed"
      },
      "execution_count": null,
      "outputs": [
        {
          "output_type": "stream",
          "name": "stdout",
          "text": [
            "Model: \"sequential_1\"\n",
            "_________________________________________________________________\n",
            " Layer (type)                Output Shape              Param #   \n",
            "=================================================================\n",
            " text_vectorization (TextVec  (None, None)             0         \n",
            " torization)                                                     \n",
            "                                                                 \n",
            " embedding_1 (Embedding)     (None, None, 128)         128000    \n",
            "                                                                 \n",
            " bidirectional (Bidirectiona  (None, 512)              788480    \n",
            " l)                                                              \n",
            "                                                                 \n",
            " dense_3 (Dense)             (None, 128)               65664     \n",
            "                                                                 \n",
            " dropout_1 (Dropout)         (None, 128)               0         \n",
            "                                                                 \n",
            " dense_4 (Dense)             (None, 64)                8256      \n",
            "                                                                 \n",
            " dense_5 (Dense)             (None, 1)                 65        \n",
            "                                                                 \n",
            "=================================================================\n",
            "Total params: 990,465\n",
            "Trainable params: 990,465\n",
            "Non-trainable params: 0\n",
            "_________________________________________________________________\n"
          ]
        }
      ]
    },
    {
      "cell_type": "markdown",
      "source": [
        "Let's configure the model again using the same settings as before."
      ],
      "metadata": {
        "id": "u_1K7uKsmFu_"
      }
    },
    {
      "cell_type": "code",
      "source": [
        "#configuring the model; since activation=None we must put from_logits=True\n",
        "model_2.compile(loss=tf.keras.losses.BinaryCrossentropy(from_logits=True),\n",
        "              optimizer=tf.keras.optimizers.Adam(1e-4),\n",
        "              metrics=['accuracy']) # we will evaluate the model using accuracy"
      ],
      "metadata": {
        "id": "qXaBHTmRmH1X"
      },
      "execution_count": null,
      "outputs": []
    },
    {
      "cell_type": "markdown",
      "source": [
        "Now we can train the model."
      ],
      "metadata": {
        "id": "V3iMGY6OmOkY"
      }
    },
    {
      "cell_type": "code",
      "source": [
        "%%time\n",
        "#training the model and storing the history in a variable to plot later\n",
        "history_2 = model_2.fit(x=X_train, \n",
        "                    y=y_train,\n",
        "                    epochs=100, \n",
        "                    validation_data=(X_test,y_test), \n",
        "                    callbacks=[callback], \n",
        "                    verbose = 1)"
      ],
      "metadata": {
        "id": "DEm5ptQhmQ7r",
        "colab": {
          "base_uri": "https://localhost:8080/"
        },
        "outputId": "421aa7a2-5bee-45eb-fb50-9320088edbd9"
      },
      "execution_count": null,
      "outputs": [
        {
          "output_type": "stream",
          "name": "stdout",
          "text": [
            "Epoch 1/100\n",
            "25/25 [==============================] - 19s 350ms/step - loss: 0.6930 - accuracy: 0.5000 - val_loss: 0.6926 - val_accuracy: 0.5000\n",
            "Epoch 2/100\n",
            "25/25 [==============================] - 8s 334ms/step - loss: 0.6912 - accuracy: 0.5000 - val_loss: 0.6913 - val_accuracy: 0.5000\n",
            "Epoch 3/100\n",
            "25/25 [==============================] - 9s 364ms/step - loss: 0.6875 - accuracy: 0.5000 - val_loss: 0.6872 - val_accuracy: 0.5000\n",
            "Epoch 4/100\n",
            "25/25 [==============================] - 9s 333ms/step - loss: 0.6774 - accuracy: 0.5000 - val_loss: 0.6766 - val_accuracy: 0.5000\n",
            "Epoch 5/100\n",
            "25/25 [==============================] - 5s 182ms/step - loss: 0.6481 - accuracy: 0.5038 - val_loss: 0.6461 - val_accuracy: 0.5100\n",
            "Epoch 6/100\n",
            "25/25 [==============================] - 6s 256ms/step - loss: 0.5380 - accuracy: 0.6675 - val_loss: 0.7615 - val_accuracy: 0.5750\n",
            "Epoch 7/100\n",
            "25/25 [==============================] - 4s 180ms/step - loss: 0.4116 - accuracy: 0.8238 - val_loss: 0.7656 - val_accuracy: 0.6950\n",
            "Epoch 8/100\n",
            "25/25 [==============================] - 5s 187ms/step - loss: 0.3108 - accuracy: 0.9062 - val_loss: 0.6291 - val_accuracy: 0.7800\n",
            "Epoch 9/100\n",
            "25/25 [==============================] - 6s 247ms/step - loss: 0.2318 - accuracy: 0.9400 - val_loss: 0.6768 - val_accuracy: 0.8050\n",
            "Epoch 10/100\n",
            "25/25 [==============================] - 5s 200ms/step - loss: 0.1938 - accuracy: 0.9500 - val_loss: 1.1854 - val_accuracy: 0.7550\n",
            "Epoch 11/100\n",
            "25/25 [==============================] - 8s 343ms/step - loss: 0.1958 - accuracy: 0.9513 - val_loss: 0.9639 - val_accuracy: 0.7800\n",
            "Epoch 12/100\n",
            "25/25 [==============================] - 8s 322ms/step - loss: 0.1392 - accuracy: 0.9700 - val_loss: 1.1199 - val_accuracy: 0.7900\n",
            "Epoch 13/100\n",
            "25/25 [==============================] - 9s 366ms/step - loss: 0.1157 - accuracy: 0.9688 - val_loss: 1.2006 - val_accuracy: 0.7800\n",
            "Epoch 14/100\n",
            "25/25 [==============================] - 6s 252ms/step - loss: 0.0949 - accuracy: 0.9737 - val_loss: 1.3696 - val_accuracy: 0.7850\n",
            "Epoch 15/100\n",
            "25/25 [==============================] - 8s 305ms/step - loss: 0.0799 - accuracy: 0.9800 - val_loss: 1.4713 - val_accuracy: 0.7850\n",
            "Epoch 16/100\n",
            "25/25 [==============================] - 6s 237ms/step - loss: 0.0702 - accuracy: 0.9812 - val_loss: 1.5799 - val_accuracy: 0.7950\n",
            "CPU times: user 2min 18s, sys: 4.53 s, total: 2min 22s\n",
            "Wall time: 2min 1s\n"
          ]
        }
      ]
    },
    {
      "cell_type": "markdown",
      "source": [
        "Let's evaluate the model by visualizing history."
      ],
      "metadata": {
        "id": "eC8U3j_UmXCy"
      }
    },
    {
      "cell_type": "code",
      "source": [
        "#visualizing training history\n",
        "train_history = pd.DataFrame(history_2.history)\n",
        "train_history['epoch'] = history_2.epoch\n",
        "#plotting train loss\n",
        "sns.lineplot(x='epoch', y ='loss', data =train_history)\n",
        "#plotting validation loss\n",
        "sns.lineplot(x='epoch', y ='val_loss', data =train_history)\n",
        "#adding legends\n",
        "plt.legend(labels=['train_loss', 'val_loss'])\n",
        "plt.title('Training and Validation Loss Over Epochs')\n",
        "plt.show()\n",
        "\n",
        "#plotting training accuracy\n",
        "sns.lineplot(x='epoch', y ='accuracy', data =train_history)\n",
        "#Plot validation accuracy\n",
        "sns.lineplot(x='epoch', y ='val_accuracy', data =train_history)\n",
        "#adding legends\n",
        "plt.legend(labels=['train_accuracy', 'val_accuracy'])\n",
        "plt.title('Training and Validation Accuracy Over Epochs')\n",
        "plt.show()"
      ],
      "metadata": {
        "id": "v-ItpqpBmXbR",
        "colab": {
          "base_uri": "https://localhost:8080/",
          "height": 927
        },
        "outputId": "f190cb27-da8f-4907-d520-586b723055c5"
      },
      "execution_count": null,
      "outputs": [
        {
          "output_type": "display_data",
          "data": {
            "text/plain": [
              "<Figure size 640x480 with 1 Axes>"
            ],
            "image/png": "[encoded data removed]"
          },
          "metadata": {}
        },
        {
          "output_type": "display_data",
          "data": {
            "text/plain": [
              "<Figure size 640x480 with 1 Axes>"
            ],
            "image/png": "[encoded data removed]"
          },
          "metadata": {}
        }
      ]
    },
    {
      "cell_type": "markdown",
      "source": [
        "From the first graph, we can see that as the number of epochs increase the training loss decreases while the validation loss increases. From the second graph, we can see that the training accuracy was greater than the validation accuracy. Both of these findings suggest that the model is over-fitting.\n",
        "\n",
        "Let's look at the classification report."
      ],
      "metadata": {
        "id": "trgzsDRWmZ5W"
      }
    },
    {
      "cell_type": "code",
      "source": [
        "#the cutoff probability is 50%\n",
        "#forecasting the Recommended IND labels\n",
        "\n",
        "y_pred = (model_2.predict(X_test)> 0.5).astype(int)\n",
        "\n",
        "#printing classification report\n",
        "report_2 = classification_report(y_test, y_pred, target_names=label_names)\n",
        "print(report_2)"
      ],
      "metadata": {
        "id": "SHBDBAFBma8y",
        "colab": {
          "base_uri": "https://localhost:8080/"
        },
        "outputId": "9cfe4ec3-8517-45cd-b321-1dd81d86fc2a"
      },
      "execution_count": null,
      "outputs": [
        {
          "output_type": "stream",
          "name": "stdout",
          "text": [
            "7/7 [==============================] - 3s 41ms/step\n",
            "              precision    recall  f1-score   support\n",
            "\n",
            "   Not Liked       0.78      0.82      0.80       100\n",
            "       Liked       0.81      0.77      0.79       100\n",
            "\n",
            "    accuracy                           0.80       200\n",
            "   macro avg       0.80      0.79      0.79       200\n",
            "weighted avg       0.80      0.80      0.79       200\n",
            "\n"
          ]
        }
      ]
    },
    {
      "cell_type": "markdown",
      "source": [
        "The model's accuracy is 0.80, and the F1-scores are approximately the same, making this a decent model. "
      ],
      "metadata": {
        "id": "eo5O99xmmx0V"
      }
    },
    {
      "cell_type": "markdown",
      "source": [
        "##5.Build a third RNN model using embedding layer and GRU and LSTM and evaluate it on the test dataset.\n"
      ],
      "metadata": {
        "id": "nCiXwmenhPyL"
      }
    },
    {
      "cell_type": "markdown",
      "source": [
        "Now, we can build the RNN model using an embedding, GRU, and LSTM layer."
      ],
      "metadata": {
        "id": "2CxrZR07mzV_"
      }
    },
    {
      "cell_type": "code",
      "source": [
        "#building RNN model\n",
        "model_3 = tf.keras.Sequential([\n",
        "    #performing textvectorization which converts the raw texts to indices/integers\n",
        "    encoder, \n",
        "    #embedding layer to convert the indices to numerical vectors\n",
        "    tf.keras.layers.Embedding(\n",
        "        input_dim=len(encoder.get_vocabulary()),\n",
        "        output_dim=128,\n",
        "        #using masking to handle the variable sequence lengths\n",
        "        mask_zero=True),\n",
        "    #GRU layer; the default recurrent_activation = sigmoid\n",
        "    tf.keras.layers.GRU(256, return_sequences=True),\n",
        "    #LSTM layer\n",
        "    tf.keras.layers.Bidirectional(tf.keras.layers.LSTM(256)),\n",
        "    #classification layer 1\n",
        "    tf.keras.layers.Dense(128, activation='relu'),\n",
        "    #dropout layer 1\n",
        "    tf.keras.layers.Dropout(dropout_rate),\n",
        "    #classification layer 2\n",
        "    tf.keras.layers.Dense(64, activation='relu'),\n",
        "    #classification layer 3; must be equal to 1 since this is the output layer\n",
        "    tf.keras.layers.Dense(1, activation=None)\n",
        "])"
      ],
      "metadata": {
        "id": "8Ln-Co2Om-UU"
      },
      "execution_count": null,
      "outputs": []
    },
    {
      "cell_type": "markdown",
      "source": [
        "Let's look at the model summary."
      ],
      "metadata": {
        "id": "scZI5y4MnJ01"
      }
    },
    {
      "cell_type": "code",
      "source": [
        "#summarizing model\n",
        "model_3.summary()"
      ],
      "metadata": {
        "id": "9b30tdFknMSH",
        "colab": {
          "base_uri": "https://localhost:8080/"
        },
        "outputId": "4bb7eb80-b5d6-47af-c13e-aefedf121a68"
      },
      "execution_count": null,
      "outputs": [
        {
          "output_type": "stream",
          "name": "stdout",
          "text": [
            "Model: \"sequential_2\"\n",
            "_________________________________________________________________\n",
            " Layer (type)                Output Shape              Param #   \n",
            "=================================================================\n",
            " text_vectorization (TextVec  (None, None)             0         \n",
            " torization)                                                     \n",
            "                                                                 \n",
            " embedding_2 (Embedding)     (None, None, 128)         128000    \n",
            "                                                                 \n",
            " gru_1 (GRU)                 (None, None, 256)         296448    \n",
            "                                                                 \n",
            " bidirectional_1 (Bidirectio  (None, 512)              1050624   \n",
            " nal)                                                            \n",
            "                                                                 \n",
            " dense_6 (Dense)             (None, 128)               65664     \n",
            "                                                                 \n",
            " dropout_2 (Dropout)         (None, 128)               0         \n",
            "                                                                 \n",
            " dense_7 (Dense)             (None, 64)                8256      \n",
            "                                                                 \n",
            " dense_8 (Dense)             (None, 1)                 65        \n",
            "                                                                 \n",
            "=================================================================\n",
            "Total params: 1,549,057\n",
            "Trainable params: 1,549,057\n",
            "Non-trainable params: 0\n",
            "_________________________________________________________________\n"
          ]
        }
      ]
    },
    {
      "cell_type": "markdown",
      "source": [
        "Let's configure the model using the same settings as before. "
      ],
      "metadata": {
        "id": "34m1H16QnPB3"
      }
    },
    {
      "cell_type": "code",
      "source": [
        "#configuring the model; since activation=None we must put from_logits=True\n",
        "model_3.compile(loss=tf.keras.losses.BinaryCrossentropy(from_logits=True),\n",
        "              optimizer=tf.keras.optimizers.Adam(1e-4),\n",
        "              metrics=['accuracy']) # we will evaluate the model using accuracy"
      ],
      "metadata": {
        "id": "bBdYwAgHnRuS"
      },
      "execution_count": null,
      "outputs": []
    },
    {
      "cell_type": "markdown",
      "source": [
        "Finally, let's train the model."
      ],
      "metadata": {
        "id": "bl07D9rZnUN6"
      }
    },
    {
      "cell_type": "code",
      "source": [
        "%%time\n",
        "#training the model and storing the history in a variable to plot later\n",
        "history_3 = model_3.fit(x=X_train, \n",
        "                    y=y_train,\n",
        "                    epochs=100, \n",
        "                    validation_data=(X_test,y_test),\n",
        "                    callbacks=[callback], \n",
        "                    verbose = 1)"
      ],
      "metadata": {
        "id": "5qdPeVlvnW8r",
        "colab": {
          "base_uri": "https://localhost:8080/"
        },
        "outputId": "a8d163b4-794b-4af5-c2ae-0981ff591cec"
      },
      "execution_count": null,
      "outputs": [
        {
          "output_type": "stream",
          "name": "stdout",
          "text": [
            "Epoch 1/100\n",
            "25/25 [==============================] - 28s 570ms/step - loss: 0.6930 - accuracy: 0.5000 - val_loss: 0.6919 - val_accuracy: 0.5000\n",
            "Epoch 2/100\n",
            "25/25 [==============================] - 11s 466ms/step - loss: 0.6904 - accuracy: 0.5000 - val_loss: 0.6886 - val_accuracy: 0.5000\n",
            "Epoch 3/100\n",
            "25/25 [==============================] - 13s 521ms/step - loss: 0.6806 - accuracy: 0.5000 - val_loss: 0.6725 - val_accuracy: 0.5000\n",
            "Epoch 4/100\n",
            "25/25 [==============================] - 8s 303ms/step - loss: 0.6286 - accuracy: 0.5225 - val_loss: 0.6163 - val_accuracy: 0.6550\n",
            "Epoch 5/100\n",
            "25/25 [==============================] - 9s 365ms/step - loss: 0.4406 - accuracy: 0.7837 - val_loss: 0.7069 - val_accuracy: 0.7000\n",
            "Epoch 6/100\n",
            "25/25 [==============================] - 9s 375ms/step - loss: 0.3125 - accuracy: 0.8913 - val_loss: 0.8079 - val_accuracy: 0.7500\n",
            "Epoch 7/100\n",
            "25/25 [==============================] - 8s 302ms/step - loss: 0.2498 - accuracy: 0.9137 - val_loss: 0.9520 - val_accuracy: 0.7000\n",
            "Epoch 8/100\n",
            "25/25 [==============================] - 13s 539ms/step - loss: 0.1883 - accuracy: 0.9463 - val_loss: 1.0196 - val_accuracy: 0.7150\n",
            "Epoch 9/100\n",
            "25/25 [==============================] - 10s 396ms/step - loss: 0.1652 - accuracy: 0.9525 - val_loss: 0.9924 - val_accuracy: 0.7450\n",
            "Epoch 10/100\n",
            "25/25 [==============================] - 8s 311ms/step - loss: 0.1453 - accuracy: 0.9625 - val_loss: 1.2277 - val_accuracy: 0.7450\n",
            "Epoch 11/100\n",
            "25/25 [==============================] - 9s 364ms/step - loss: 0.1238 - accuracy: 0.9650 - val_loss: 1.1523 - val_accuracy: 0.7750\n",
            "Epoch 12/100\n",
            "25/25 [==============================] - 8s 308ms/step - loss: 0.1087 - accuracy: 0.9688 - val_loss: 1.4482 - val_accuracy: 0.7450\n",
            "Epoch 13/100\n",
            "25/25 [==============================] - 9s 355ms/step - loss: 0.0834 - accuracy: 0.9775 - val_loss: 1.3490 - val_accuracy: 0.7850\n",
            "Epoch 14/100\n",
            "25/25 [==============================] - 9s 372ms/step - loss: 0.0836 - accuracy: 0.9762 - val_loss: 1.9091 - val_accuracy: 0.7150\n",
            "Epoch 15/100\n",
            "25/25 [==============================] - 8s 317ms/step - loss: 0.1460 - accuracy: 0.9588 - val_loss: 1.3659 - val_accuracy: 0.7600\n",
            "Epoch 16/100\n",
            "25/25 [==============================] - 9s 357ms/step - loss: 0.0669 - accuracy: 0.9775 - val_loss: 1.3436 - val_accuracy: 0.7950\n",
            "Epoch 17/100\n",
            "25/25 [==============================] - 13s 550ms/step - loss: 0.0519 - accuracy: 0.9887 - val_loss: 1.4874 - val_accuracy: 0.7800\n",
            "Epoch 18/100\n",
            "25/25 [==============================] - 11s 443ms/step - loss: 0.0440 - accuracy: 0.9912 - val_loss: 1.5970 - val_accuracy: 0.7850\n",
            "Epoch 19/100\n",
            "25/25 [==============================] - 11s 429ms/step - loss: 0.0389 - accuracy: 0.9925 - val_loss: 1.7158 - val_accuracy: 0.7900\n",
            "Epoch 20/100\n",
            "25/25 [==============================] - 12s 505ms/step - loss: 0.0311 - accuracy: 0.9925 - val_loss: 1.8161 - val_accuracy: 0.7950\n",
            "Epoch 21/100\n",
            "25/25 [==============================] - 13s 509ms/step - loss: 0.0261 - accuracy: 0.9950 - val_loss: 1.9328 - val_accuracy: 0.7900\n",
            "Epoch 22/100\n",
            "25/25 [==============================] - 9s 371ms/step - loss: 0.0228 - accuracy: 0.9962 - val_loss: 2.0384 - val_accuracy: 0.7900\n",
            "Epoch 23/100\n",
            "25/25 [==============================] - 7s 294ms/step - loss: 0.0212 - accuracy: 0.9962 - val_loss: 2.1373 - val_accuracy: 0.7900\n",
            "CPU times: user 5min 7s, sys: 12.8 s, total: 5min 20s\n",
            "Wall time: 4min 6s\n"
          ]
        }
      ]
    },
    {
      "cell_type": "markdown",
      "source": [
        "Let's evaluate the model by visualizing history."
      ],
      "metadata": {
        "id": "KhcgmE7HnaGf"
      }
    },
    {
      "cell_type": "code",
      "source": [
        "#visualizing training history\n",
        "train_history = pd.DataFrame(history_3.history)\n",
        "train_history['epoch'] = history_3.epoch\n",
        "#plotting train loss\n",
        "sns.lineplot(x='epoch', y ='loss', data =train_history)\n",
        "#plotting validation loss\n",
        "sns.lineplot(x='epoch', y ='val_loss', data =train_history)\n",
        "#adding legends\n",
        "plt.legend(labels=['train_loss', 'val_loss'])\n",
        "plt.title('Training and Validation Loss Over Epochs')\n",
        "plt.show()\n",
        "\n",
        "#plotting training accuracy\n",
        "sns.lineplot(x='epoch', y ='accuracy', data =train_history)\n",
        "#Plot validation accuracy\n",
        "sns.lineplot(x='epoch', y ='val_accuracy', data =train_history)\n",
        "#adding legends\n",
        "plt.legend(labels=['train_accuracy', 'val_accuracy'])\n",
        "plt.title('Training and Validation Accuracy Over Epochs')\n",
        "plt.show()"
      ],
      "metadata": {
        "id": "5RtRDavlna2I",
        "colab": {
          "base_uri": "https://localhost:8080/",
          "height": 927
        },
        "outputId": "2132d016-dce5-434f-a065-6c5e5a9b0946"
      },
      "execution_count": null,
      "outputs": [
        {
          "output_type": "display_data",
          "data": {
            "text/plain": [
              "<Figure size 640x480 with 1 Axes>"
            ],
            "image/png": "[encoded data removed]"
          },
          "metadata": {}
        },
        {
          "output_type": "display_data",
          "data": {
            "text/plain": [
              "<Figure size 640x480 with 1 Axes>"
            ],
            "image/png": "[encoded data removed]"
          },
          "metadata": {}
        }
      ]
    },
    {
      "cell_type": "markdown",
      "source": [
        "Similar to the previous graphs, the validation loss is increasing while the training loss is decreasing. We can also see that the training accuracy is higher than the validation accuracy. All of these characteristics are an indication that the model is over-fitting. \n",
        "\n",
        "Let's look at the classification report."
      ],
      "metadata": {
        "id": "cpvDof7zndGJ"
      }
    },
    {
      "cell_type": "code",
      "source": [
        "#the cutoff probability is 50%\n",
        "#forecasting the Liked labels\n",
        "y_pred = (model_3.predict(X_test)> 0.5).astype(int)\n",
        "\n",
        "#printing a classification report\n",
        "report_3 = classification_report(y_test, y_pred, target_names=label_names)\n",
        "print(report_3)"
      ],
      "metadata": {
        "id": "QXdJJiugnhiA",
        "colab": {
          "base_uri": "https://localhost:8080/"
        },
        "outputId": "e8cf84e7-d94a-453a-c992-aecddbb46fe3"
      },
      "execution_count": null,
      "outputs": [
        {
          "output_type": "stream",
          "name": "stdout",
          "text": [
            "7/7 [==============================] - 7s 70ms/step\n",
            "              precision    recall  f1-score   support\n",
            "\n",
            "   Not Liked       0.78      0.81      0.79       100\n",
            "       Liked       0.80      0.77      0.79       100\n",
            "\n",
            "    accuracy                           0.79       200\n",
            "   macro avg       0.79      0.79      0.79       200\n",
            "weighted avg       0.79      0.79      0.79       200\n",
            "\n"
          ]
        }
      ]
    },
    {
      "cell_type": "markdown",
      "source": [
        "The model's accuracy and f1-scores are 0.79, making this is an okay model."
      ],
      "metadata": {
        "id": "x4FwxSbXnps7"
      }
    },
    {
      "cell_type": "markdown",
      "source": [
        "##6.Which model do you recommend for the model in Q3, Q4, and Q5? Justify your answer.\n"
      ],
      "metadata": {
        "id": "Zvkba1-UhRkx"
      }
    },
    {
      "cell_type": "markdown",
      "source": [
        "Because we have a balanced dataset, we evaluated the models based on their accuracies. After evaluating the models on test data, these were the results:\n",
        "+ Model 1: 0.77\n",
        "+ Model 2: 0.80\n",
        "+ Model 3: 0.79\n",
        "\n",
        "There is room for improvement for all the models. If we address the over-fitting using more regularization methods, we could have a better performing models. All of the models performed approximately the same, but we would recommend Model 2 to the company because it had the highest accuracy. "
      ],
      "metadata": {
        "id": "e4mhF2gDpeGE"
      }
    }
  ]
}